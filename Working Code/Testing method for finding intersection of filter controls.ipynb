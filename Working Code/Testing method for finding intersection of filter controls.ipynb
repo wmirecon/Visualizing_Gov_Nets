{
 "cells": [
  {
   "cell_type": "code",
   "execution_count": 2,
   "metadata": {},
   "outputs": [],
   "source": [
    "#***************************************************************\n",
    "setwd(\"~/In Class Notes/Springboard/capstone projects/Visualizing_Gov_Nets/shiny/VGN-v3 12sep17\")\n",
    "library( shiny )\n",
    "library( igraph )\n",
    "library( networkD3 )\n",
    "library( dplyr )\n",
    "library( RColorBrewer )\n",
    "options( stringsAsFactors = F )\n",
    "\n",
    "# load helper functions; see helpers.R\n",
    "source(\"look up helpers.R\")\n",
    "source(\"function helpers.R\")\n",
    "\n"
   ]
  },
  {
   "cell_type": "code",
   "execution_count": 3,
   "metadata": {
    "collapsed": true
   },
   "outputs": [],
   "source": [
    "# load in org data\n",
    "org.list.bi.data <- read.csv( \"data/org_list_bi_data.csv\" )\n",
    "\n",
    "# read in edge data for all of the functional subnetworks\n",
    "is.el <- read.csv( \"data/is_2015_el.csv\" )\n",
    "ta.el <- read.csv( \"data/ta_2015_el.csv\" )\n",
    "pc.el <- read.csv( \"data/pc_2015_el.csv\" )\n",
    "rt.el <- read.csv( \"data/rt_2015_el.csv\" )\n",
    "fs.el <- read.csv( \"data/fs_2015_el.csv\" )\n",
    "\n"
   ]
  },
  {
   "cell_type": "code",
   "execution_count": 74,
   "metadata": {},
   "outputs": [
    {
     "name": "stdout",
     "output_type": "stream",
     "text": [
      "[1] 60\n"
     ]
    }
   ],
   "source": [
    "el <- is.el\n",
    "pt.select <- 12\n",
    "aa.select <- 53\n",
    "dm.select <- 60\n",
    "pt.select <- c(pt.select, pt.select + 12, pt.select + 24)\n",
    "pt.select <- c()\n",
    "aa.select <- c()\n",
    "#dm.select <- c()\n",
    "\n",
    "filter.select <- c(pt.select,\n",
    "                   as.numeric(aa.select),\n",
    "                   as.numeric(dm.select))\n",
    "print(filter.select)\n"
   ]
  },
  {
   "cell_type": "code",
   "execution_count": 57,
   "metadata": {},
   "outputs": [],
   "source": [
    "\n",
    "\n",
    "nodes <- select.orgs( orgs = org.list.bi.data,\n",
    "                      index.set = na.omit( filter.select ) )\n",
    "#nodes <- unique( nodes )"
   ]
  },
  {
   "cell_type": "code",
   "execution_count": 58,
   "metadata": {},
   "outputs": [
    {
     "data": {
      "text/html": [
       "57"
      ],
      "text/latex": [
       "57"
      ],
      "text/markdown": [
       "57"
      ],
      "text/plain": [
       "[1] 57"
      ]
     },
     "metadata": {},
     "output_type": "display_data"
    }
   ],
   "source": [
    "nrow(nodes)"
   ]
  },
  {
   "cell_type": "code",
   "execution_count": 92,
   "metadata": {},
   "outputs": [
    {
     "name": "stdout",
     "output_type": "stream",
     "text": [
      "[1] 57\n"
     ]
    },
    {
     "data": {
      "text/html": [
       "54"
      ],
      "text/latex": [
       "54"
      ],
      "text/markdown": [
       "54"
      ],
      "text/plain": [
       "[1] 54"
      ]
     },
     "metadata": {},
     "output_type": "display_data"
    }
   ],
   "source": [
    "nodes <- select.orgs( orgs = org.list.bi.data,\n",
    "                      index.set = na.omit( filter.select ) )\n",
    "\n",
    "print(nrow(nodes))\n",
    "count.df <- data.frame(table(nodes$org.name))\n",
    "length(count.df[count.df$Freq >= 1,1])"
   ]
  },
  {
   "cell_type": "code",
   "execution_count": 125,
   "metadata": {},
   "outputs": [
    {
     "name": "stdout",
     "output_type": "stream",
     "text": [
      "$dm.select\n",
      "[1] \"Agricultura land management\"\n",
      "\n",
      "$aa.select\n",
      "[1] \"Regulation Enforcement\"\n",
      "\n",
      "$pt.select\n",
      "[1] \"Agricultural legislation\"\n",
      "\n",
      "[1] NA\n",
      "[1] NA NA NA\n",
      "[1] NA\n",
      "[1] TRUE\n",
      "[1] TRUE\n",
      "[1] TRUE\n",
      "[1] TRUE\n",
      "[1] NA NA NA NA NA\n",
      "numeric(0)\n",
      "attr(,\"na.action\")\n",
      "[1] 1 2 3 4 5\n",
      "attr(,\"class\")\n",
      "[1] \"omit\"\n",
      "logical(0)\n",
      "logical(0)\n",
      "<NA> \n",
      "  NA \n",
      "<NA> \n",
      "  NA \n",
      "<NA> \n",
      "  NA \n",
      "[1] 0\n",
      "[1] 0\n",
      "[1] 0\n"
     ]
    },
    {
     "data": {
      "text/html": [
       "0"
      ],
      "text/latex": [
       "0"
      ],
      "text/markdown": [
       "0"
      ],
      "text/plain": [
       "[1] 0"
      ]
     },
     "metadata": {},
     "output_type": "display_data"
    }
   ],
   "source": [
    "input <- list()\n",
    "input$dm.select <- \"Agricultural land management\"\n",
    "input$aa.select <- \"Regulation Enforcement\"\n",
    "input$pt.select <- \"Agricultural legislation\"\n",
    "print(input)\n",
    "\n",
    "pt.select <- as.numeric(pt.choice.index[input$pt.select])\n",
    "pt.select <- c(pt.select, pt.select + 12, pt.select + 24)\n",
    "aa.select <- as.numeric(aa.choice.index[input$aa.select])\n",
    "dm.select <- as.numeric(dm.choice.index[input$dm.select])\n",
    "\n",
    "print(dm.select)\n",
    "print(pt.select)\n",
    "print(aa.select)\n",
    "\n",
    "print(is.na(dm.select))\n",
    "print(is.na(pt.select[1]))\n",
    "print(is.na(aa.select))\n",
    "\n",
    "print(is.na(dm.select) && is.na(pt.select[1]) && is.na(aa.select))\n",
    "\n",
    "filter.select <- c(pt.select,\n",
    "                   aa.select,\n",
    "                   dm.select\n",
    "                  )\n",
    "print(filter.select)\n",
    "filter.select <- na.omit(filter.select)\n",
    "print(filter.select)\n",
    "print( filter.select == numeric(0) )\n",
    "print(is.na( filter.select ))\n",
    "\n",
    "print(dm.choice.index[input$dm.select])\n",
    "print(pt.choice.index[input$pt.select])\n",
    "print(aa.choice.index[input$aa.select])\n",
    "\n",
    "print(as.numeric(!is.na(dm.choice.index[input$dm.select])))\n",
    "print(as.numeric(!is.na(pt.choice.index[input$pt.select])))\n",
    "print(as.numeric(!is.na(aa.choice.index[input$aa.select])))\n",
    "\n",
    "filter.count <- as.numeric(!is.na(dm.choice.index[input$dm.select])) +\n",
    "                as.numeric(!is.na(pt.choice.index[input$pt.select])) +\n",
    "                as.numeric(!is.na(aa.choice.index[input$aa.select]))\n",
    "filter.count"
   ]
  },
  {
   "cell_type": "code",
   "execution_count": 126,
   "metadata": {},
   "outputs": [
    {
     "name": "stdout",
     "output_type": "stream",
     "text": [
      "      Community Action Conservation Easements            Contracting \n",
      "                  \"23\"                   \"12\"                   \"19\" \n",
      "          Cost Sharing                 Grants             Litigation \n",
      "                  \"17\"                   \"16\"                   \"22\" \n",
      "      Loans/Guarantees             Permitting     Public Information \n",
      "                  \"18\"                   \"15\"                   \"14\" \n",
      "Regulation Enforcement         Tax Incentives   Technical Assistance \n",
      "                  \"13\"                   \"21\"                   \"20\" \n"
     ]
    }
   ],
   "source": [
    "print(pt.choice.index)"
   ]
  },
  {
   "cell_type": "code",
   "execution_count": 154,
   "metadata": {},
   "outputs": [
    {
     "name": "stdout",
     "output_type": "stream",
     "text": [
      "$dm.select\n",
      "[1] \"Agricultural land management\"\n",
      "\n",
      "$aa.select\n",
      "[1] \"EPA-led TMDL\"\n",
      "\n",
      "$pt.select\n",
      "[1] \"Permitting\"\n",
      "\n",
      "[1] 60\n",
      "[1] 15 27 39\n",
      "[1] 49\n",
      "[1] 79\n"
     ]
    },
    {
     "data": {
      "text/html": [
       "<table>\n",
       "<thead><tr><th></th><th scope=col>Var1</th><th scope=col>Freq</th></tr></thead>\n",
       "<tbody>\n",
       "\t<tr><th scope=row>79</th><td>w341212</td><td>3      </td></tr>\n",
       "\t<tr><th scope=row>1</th><td>g234700</td><td>2      </td></tr>\n",
       "\t<tr><th scope=row>54</th><td>n381601</td><td>2      </td></tr>\n",
       "\t<tr><th scope=row>60</th><td>w161502</td><td>2      </td></tr>\n",
       "\t<tr><th scope=row>2</th><td>g321601</td><td>1      </td></tr>\n",
       "\t<tr><th scope=row>3</th><td>g321603</td><td>1      </td></tr>\n",
       "\t<tr><th scope=row>4</th><td>g321607</td><td>1      </td></tr>\n",
       "\t<tr><th scope=row>5</th><td>g321610</td><td>1      </td></tr>\n",
       "\t<tr><th scope=row>6</th><td>g321612</td><td>1      </td></tr>\n",
       "\t<tr><th scope=row>7</th><td>g321613</td><td>1      </td></tr>\n",
       "</tbody>\n",
       "</table>\n"
      ],
      "text/latex": [
       "\\begin{tabular}{r|ll}\n",
       "  & Var1 & Freq\\\\\n",
       "\\hline\n",
       "\t79 & w341212 & 3      \\\\\n",
       "\t1 & g234700 & 2      \\\\\n",
       "\t54 & n381601 & 2      \\\\\n",
       "\t60 & w161502 & 2      \\\\\n",
       "\t2 & g321601 & 1      \\\\\n",
       "\t3 & g321603 & 1      \\\\\n",
       "\t4 & g321607 & 1      \\\\\n",
       "\t5 & g321610 & 1      \\\\\n",
       "\t6 & g321612 & 1      \\\\\n",
       "\t7 & g321613 & 1      \\\\\n",
       "\\end{tabular}\n"
      ],
      "text/markdown": [
       "\n",
       "| <!--/--> | Var1 | Freq | \n",
       "|---|---|---|---|---|---|---|---|---|---|\n",
       "| 79 | w341212 | 3       | \n",
       "| 1 | g234700 | 2       | \n",
       "| 54 | n381601 | 2       | \n",
       "| 60 | w161502 | 2       | \n",
       "| 2 | g321601 | 1       | \n",
       "| 3 | g321603 | 1       | \n",
       "| 4 | g321607 | 1       | \n",
       "| 5 | g321610 | 1       | \n",
       "| 6 | g321612 | 1       | \n",
       "| 7 | g321613 | 1       | \n",
       "\n",
       "\n"
      ],
      "text/plain": [
       "   Var1    Freq\n",
       "79 w341212 3   \n",
       "1  g234700 2   \n",
       "54 n381601 2   \n",
       "60 w161502 2   \n",
       "2  g321601 1   \n",
       "3  g321603 1   \n",
       "4  g321607 1   \n",
       "5  g321610 1   \n",
       "6  g321612 1   \n",
       "7  g321613 1   "
      ]
     },
     "metadata": {},
     "output_type": "display_data"
    }
   ],
   "source": [
    "input <- list()\n",
    "input$dm.select <- \"Agricultural land management\"\n",
    "input$aa.select <- \"EPA-led TMDL\"\n",
    "input$pt.select <- \"Permitting\"\n",
    "print(input)\n",
    "\n",
    "pt.select <- as.numeric(pt.choice.index[input$pt.select])\n",
    "pt.select <- c(pt.select, pt.select + 12, pt.select + 24)\n",
    "aa.select <- as.numeric(aa.choice.index[input$aa.select])\n",
    "dm.select <- as.numeric(dm.choice.index[input$dm.select])\n",
    "\n",
    "print(dm.select)\n",
    "print(pt.select)\n",
    "print(aa.select)\n",
    "\n",
    "filter.select <- c(pt.select,\n",
    "                   aa.select,\n",
    "                   dm.select\n",
    "                  )\n",
    "nodes <- select.orgs( orgs = org.list.bi.data,\n",
    "                     index.set = na.omit( filter.select ) )\n",
    "org.freq.df <- data.frame(table(nodes$org.name))\n",
    "print(nrow(org.freq.df))\n",
    "head(org.freq.df[order(-org.freq.df[,2]),], n = 10)"
   ]
  },
  {
   "cell_type": "code",
   "execution_count": 117,
   "metadata": {},
   "outputs": [
    {
     "name": "stdout",
     "output_type": "stream",
     "text": [
      "character(0)\n"
     ]
    }
   ],
   "source": [
    "filter.count <-\n",
    "            as.numeric(!is.na(dm.choice.index[input$dm.select])) +\n",
    "            as.numeric(!is.na(pt.choice.index[input$pt.select])) +\n",
    "            as.numeric(!is.na(aa.choice.index[input$aa.select]))\n",
    "print(filter.count)\n",
    "\n",
    "org.freq.df <- data.frame(table(nodes$org.name))\n",
    "selected.orgs <- org.freq.df[org.freq.df$Freq >= filter.count,1]\n",
    "nodes <- nodes[nodes$org.name %in% selected.orgs,]\n",
    "nodes <- unique( nodes )\n",
    "nodes"
   ]
  },
  {
   "cell_type": "code",
   "execution_count": null,
   "metadata": {
    "collapsed": true
   },
   "outputs": [],
   "source": []
  },
  {
   "cell_type": "code",
   "execution_count": null,
   "metadata": {
    "collapsed": true
   },
   "outputs": [],
   "source": []
  },
  {
   "cell_type": "code",
   "execution_count": null,
   "metadata": {
    "collapsed": true
   },
   "outputs": [],
   "source": []
  }
 ],
 "metadata": {
  "kernelspec": {
   "display_name": "R",
   "language": "R",
   "name": "ir"
  },
  "language_info": {
   "codemirror_mode": "r",
   "file_extension": ".r",
   "mimetype": "text/x-r-source",
   "name": "R",
   "pygments_lexer": "r",
   "version": "3.4.1"
  }
 },
 "nbformat": 4,
 "nbformat_minor": 2
}
